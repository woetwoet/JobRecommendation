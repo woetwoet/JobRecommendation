{
 "cells": [
  {
   "cell_type": "markdown",
   "metadata": {},
   "source": [
    "# Profile Vacancies recommendation engine"
   ]
  },
  {
   "cell_type": "markdown",
   "metadata": {},
   "source": [
    "## Context\n",
    "\n",
    "The notebook has been created in the context of a a \"Postgraduate Studies in Big Data & Analytics in Business and Management\". \n",
    "\n",
    "It has been based on the code snippets of jalajthanaki, which created the main part of the code.\n",
    "https://github.com/jalajthanaki/Job_recommendation_engine \n",
    "I modified it a bit to cater for my own dataset.\n",
    "\n"
   ]
  },
  {
   "cell_type": "markdown",
   "metadata": {},
   "source": [
    "## Importing libraries"
   ]
  },
  {
   "cell_type": "code",
   "execution_count": 3,
   "metadata": {},
   "outputs": [],
   "source": [
    "%matplotlib inline\n",
    "import matplotlib.pyplot as plt\n",
    "import seaborn as sns\n",
    "import pandas as pd\n",
    "import numpy as np\n",
    "import ast \n",
    "import os\n",
    "from scipy import stats\n",
    "from ast import literal_eval\n",
    "from sklearn.feature_extraction.text import TfidfVectorizer, CountVectorizer\n",
    "from sklearn.metrics.pairwise import linear_kernel, cosine_similarity\n",
    "from sklearn.model_selection import train_test_split\n",
    "\n",
    "import warnings; warnings.simplefilter('ignore')"
   ]
  },
  {
   "cell_type": "markdown",
   "metadata": {},
   "source": [
    "## Load dataset"
   ]
  },
  {
   "cell_type": "code",
   "execution_count": 5,
   "metadata": {},
   "outputs": [],
   "source": [
    "# Set the working dir\n",
    "os.chdir(r'C:\\Users\\woutv\\Jupyter\\Jobs\\inputdata')\n",
    "# List the data\n",
    "# os.listdir()"
   ]
  },
  {
   "cell_type": "code",
   "execution_count": 6,
   "metadata": {},
   "outputs": [],
   "source": [
    "apps = pd.read_csv('./ProfielSolicitaties.csv', delimiter=';',encoding='utf-8')\n",
    "jobs = pd.read_csv('./Vacatures.csv', delimiter=';',encoding='utf-8')\n",
    "users = pd.read_csv('./ProfielenMetCV.csv' ,delimiter=';',encoding='utf-8')\n",
    "# test_users = pd.read_csv('./inputdata/test_users.tsv', delimiter='\\t',encoding='utf-8')"
   ]
  },
  {
   "cell_type": "markdown",
   "metadata": {},
   "source": [
    "## Split training and testing data"
   ]
  },
  {
   "cell_type": "markdown",
   "metadata": {},
   "source": [
    "* not used for now"
   ]
  },
  {
   "cell_type": "code",
   "execution_count": 7,
   "metadata": {},
   "outputs": [],
   "source": [
    "apps_training, apps_testing = train_test_split(apps, test_size = 0.2)\n"
   ]
  },
  {
   "cell_type": "markdown",
   "metadata": {},
   "source": [
    "## Checking some data\n",
    "\n",
    "### Job openings based on their location information"
   ]
  },
  {
   "cell_type": "code",
   "execution_count": 8,
   "metadata": {
    "scrolled": false
   },
   "outputs": [
    {
     "data": {
      "text/html": [
       "<div>\n",
       "<style scoped>\n",
       "    .dataframe tbody tr th:only-of-type {\n",
       "        vertical-align: middle;\n",
       "    }\n",
       "\n",
       "    .dataframe tbody tr th {\n",
       "        vertical-align: top;\n",
       "    }\n",
       "\n",
       "    .dataframe thead th {\n",
       "        text-align: right;\n",
       "    }\n",
       "</style>\n",
       "<table border=\"1\" class=\"dataframe\">\n",
       "  <thead>\n",
       "    <tr style=\"text-align: right;\">\n",
       "      <th></th>\n",
       "      <th>Postcode</th>\n",
       "      <th>Locationwise</th>\n",
       "    </tr>\n",
       "  </thead>\n",
       "  <tbody>\n",
       "    <tr>\n",
       "      <th>0</th>\n",
       "      <td>1000</td>\n",
       "      <td>59</td>\n",
       "    </tr>\n",
       "    <tr>\n",
       "      <th>1</th>\n",
       "      <td>1020</td>\n",
       "      <td>4</td>\n",
       "    </tr>\n",
       "    <tr>\n",
       "      <th>2</th>\n",
       "      <td>1030</td>\n",
       "      <td>11</td>\n",
       "    </tr>\n",
       "    <tr>\n",
       "      <th>3</th>\n",
       "      <td>1040</td>\n",
       "      <td>9</td>\n",
       "    </tr>\n",
       "    <tr>\n",
       "      <th>4</th>\n",
       "      <td>1050</td>\n",
       "      <td>21</td>\n",
       "    </tr>\n",
       "    <tr>\n",
       "      <th>5</th>\n",
       "      <td>1060</td>\n",
       "      <td>6</td>\n",
       "    </tr>\n",
       "    <tr>\n",
       "      <th>6</th>\n",
       "      <td>1070</td>\n",
       "      <td>45</td>\n",
       "    </tr>\n",
       "    <tr>\n",
       "      <th>7</th>\n",
       "      <td>1080</td>\n",
       "      <td>10</td>\n",
       "    </tr>\n",
       "    <tr>\n",
       "      <th>8</th>\n",
       "      <td>1083</td>\n",
       "      <td>9</td>\n",
       "    </tr>\n",
       "    <tr>\n",
       "      <th>9</th>\n",
       "      <td>1090</td>\n",
       "      <td>1</td>\n",
       "    </tr>\n",
       "    <tr>\n",
       "      <th>10</th>\n",
       "      <td>1120</td>\n",
       "      <td>3</td>\n",
       "    </tr>\n",
       "    <tr>\n",
       "      <th>11</th>\n",
       "      <td>1130</td>\n",
       "      <td>11</td>\n",
       "    </tr>\n",
       "    <tr>\n",
       "      <th>12</th>\n",
       "      <td>1140</td>\n",
       "      <td>8</td>\n",
       "    </tr>\n",
       "    <tr>\n",
       "      <th>13</th>\n",
       "      <td>1150</td>\n",
       "      <td>9</td>\n",
       "    </tr>\n",
       "    <tr>\n",
       "      <th>14</th>\n",
       "      <td>1170</td>\n",
       "      <td>1</td>\n",
       "    </tr>\n",
       "    <tr>\n",
       "      <th>15</th>\n",
       "      <td>1180</td>\n",
       "      <td>16</td>\n",
       "    </tr>\n",
       "    <tr>\n",
       "      <th>16</th>\n",
       "      <td>1190</td>\n",
       "      <td>3</td>\n",
       "    </tr>\n",
       "    <tr>\n",
       "      <th>17</th>\n",
       "      <td>1200</td>\n",
       "      <td>4</td>\n",
       "    </tr>\n",
       "    <tr>\n",
       "      <th>18</th>\n",
       "      <td>1300</td>\n",
       "      <td>24</td>\n",
       "    </tr>\n",
       "    <tr>\n",
       "      <th>19</th>\n",
       "      <td>1301</td>\n",
       "      <td>3</td>\n",
       "    </tr>\n",
       "    <tr>\n",
       "      <th>20</th>\n",
       "      <td>1325</td>\n",
       "      <td>1</td>\n",
       "    </tr>\n",
       "    <tr>\n",
       "      <th>21</th>\n",
       "      <td>1332</td>\n",
       "      <td>6</td>\n",
       "    </tr>\n",
       "    <tr>\n",
       "      <th>22</th>\n",
       "      <td>1341</td>\n",
       "      <td>4</td>\n",
       "    </tr>\n",
       "    <tr>\n",
       "      <th>23</th>\n",
       "      <td>1348</td>\n",
       "      <td>4</td>\n",
       "    </tr>\n",
       "    <tr>\n",
       "      <th>24</th>\n",
       "      <td>1360</td>\n",
       "      <td>13</td>\n",
       "    </tr>\n",
       "    <tr>\n",
       "      <th>25</th>\n",
       "      <td>1367</td>\n",
       "      <td>4</td>\n",
       "    </tr>\n",
       "    <tr>\n",
       "      <th>26</th>\n",
       "      <td>1370</td>\n",
       "      <td>4</td>\n",
       "    </tr>\n",
       "    <tr>\n",
       "      <th>27</th>\n",
       "      <td>1380</td>\n",
       "      <td>4</td>\n",
       "    </tr>\n",
       "    <tr>\n",
       "      <th>28</th>\n",
       "      <td>1390</td>\n",
       "      <td>6</td>\n",
       "    </tr>\n",
       "    <tr>\n",
       "      <th>29</th>\n",
       "      <td>1400</td>\n",
       "      <td>11</td>\n",
       "    </tr>\n",
       "    <tr>\n",
       "      <th>...</th>\n",
       "      <td>...</td>\n",
       "      <td>...</td>\n",
       "    </tr>\n",
       "    <tr>\n",
       "      <th>584</th>\n",
       "      <td>9310</td>\n",
       "      <td>1</td>\n",
       "    </tr>\n",
       "    <tr>\n",
       "      <th>585</th>\n",
       "      <td>9320</td>\n",
       "      <td>10</td>\n",
       "    </tr>\n",
       "    <tr>\n",
       "      <th>586</th>\n",
       "      <td>9340</td>\n",
       "      <td>4</td>\n",
       "    </tr>\n",
       "    <tr>\n",
       "      <th>587</th>\n",
       "      <td>9400</td>\n",
       "      <td>8</td>\n",
       "    </tr>\n",
       "    <tr>\n",
       "      <th>588</th>\n",
       "      <td>9420</td>\n",
       "      <td>13</td>\n",
       "    </tr>\n",
       "    <tr>\n",
       "      <th>589</th>\n",
       "      <td>9450</td>\n",
       "      <td>26</td>\n",
       "    </tr>\n",
       "    <tr>\n",
       "      <th>590</th>\n",
       "      <td>9470</td>\n",
       "      <td>1</td>\n",
       "    </tr>\n",
       "    <tr>\n",
       "      <th>591</th>\n",
       "      <td>9500</td>\n",
       "      <td>3</td>\n",
       "    </tr>\n",
       "    <tr>\n",
       "      <th>592</th>\n",
       "      <td>9600</td>\n",
       "      <td>5</td>\n",
       "    </tr>\n",
       "    <tr>\n",
       "      <th>593</th>\n",
       "      <td>9620</td>\n",
       "      <td>5</td>\n",
       "    </tr>\n",
       "    <tr>\n",
       "      <th>594</th>\n",
       "      <td>9630</td>\n",
       "      <td>2</td>\n",
       "    </tr>\n",
       "    <tr>\n",
       "      <th>595</th>\n",
       "      <td>9750</td>\n",
       "      <td>1</td>\n",
       "    </tr>\n",
       "    <tr>\n",
       "      <th>596</th>\n",
       "      <td>9770</td>\n",
       "      <td>1</td>\n",
       "    </tr>\n",
       "    <tr>\n",
       "      <th>597</th>\n",
       "      <td>9771</td>\n",
       "      <td>1</td>\n",
       "    </tr>\n",
       "    <tr>\n",
       "      <th>598</th>\n",
       "      <td>9790</td>\n",
       "      <td>2</td>\n",
       "    </tr>\n",
       "    <tr>\n",
       "      <th>599</th>\n",
       "      <td>9800</td>\n",
       "      <td>46</td>\n",
       "    </tr>\n",
       "    <tr>\n",
       "      <th>600</th>\n",
       "      <td>9810</td>\n",
       "      <td>24</td>\n",
       "    </tr>\n",
       "    <tr>\n",
       "      <th>601</th>\n",
       "      <td>9820</td>\n",
       "      <td>11</td>\n",
       "    </tr>\n",
       "    <tr>\n",
       "      <th>602</th>\n",
       "      <td>9830</td>\n",
       "      <td>2</td>\n",
       "    </tr>\n",
       "    <tr>\n",
       "      <th>603</th>\n",
       "      <td>9850</td>\n",
       "      <td>2</td>\n",
       "    </tr>\n",
       "    <tr>\n",
       "      <th>604</th>\n",
       "      <td>9860</td>\n",
       "      <td>1</td>\n",
       "    </tr>\n",
       "    <tr>\n",
       "      <th>605</th>\n",
       "      <td>9880</td>\n",
       "      <td>9</td>\n",
       "    </tr>\n",
       "    <tr>\n",
       "      <th>606</th>\n",
       "      <td>9900</td>\n",
       "      <td>47</td>\n",
       "    </tr>\n",
       "    <tr>\n",
       "      <th>607</th>\n",
       "      <td>9910</td>\n",
       "      <td>2</td>\n",
       "    </tr>\n",
       "    <tr>\n",
       "      <th>608</th>\n",
       "      <td>9932</td>\n",
       "      <td>1</td>\n",
       "    </tr>\n",
       "    <tr>\n",
       "      <th>609</th>\n",
       "      <td>9940</td>\n",
       "      <td>22</td>\n",
       "    </tr>\n",
       "    <tr>\n",
       "      <th>610</th>\n",
       "      <td>9960</td>\n",
       "      <td>3</td>\n",
       "    </tr>\n",
       "    <tr>\n",
       "      <th>611</th>\n",
       "      <td>9990</td>\n",
       "      <td>3</td>\n",
       "    </tr>\n",
       "    <tr>\n",
       "      <th>612</th>\n",
       "      <td>9991</td>\n",
       "      <td>2</td>\n",
       "    </tr>\n",
       "    <tr>\n",
       "      <th>613</th>\n",
       "      <td>17600</td>\n",
       "      <td>2</td>\n",
       "    </tr>\n",
       "  </tbody>\n",
       "</table>\n",
       "<p>614 rows × 2 columns</p>\n",
       "</div>"
      ],
      "text/plain": [
       "     Postcode  Locationwise\n",
       "0        1000            59\n",
       "1        1020             4\n",
       "2        1030            11\n",
       "3        1040             9\n",
       "4        1050            21\n",
       "5        1060             6\n",
       "6        1070            45\n",
       "7        1080            10\n",
       "8        1083             9\n",
       "9        1090             1\n",
       "10       1120             3\n",
       "11       1130            11\n",
       "12       1140             8\n",
       "13       1150             9\n",
       "14       1170             1\n",
       "15       1180            16\n",
       "16       1190             3\n",
       "17       1200             4\n",
       "18       1300            24\n",
       "19       1301             3\n",
       "20       1325             1\n",
       "21       1332             6\n",
       "22       1341             4\n",
       "23       1348             4\n",
       "24       1360            13\n",
       "25       1367             4\n",
       "26       1370             4\n",
       "27       1380             4\n",
       "28       1390             6\n",
       "29       1400            11\n",
       "..        ...           ...\n",
       "584      9310             1\n",
       "585      9320            10\n",
       "586      9340             4\n",
       "587      9400             8\n",
       "588      9420            13\n",
       "589      9450            26\n",
       "590      9470             1\n",
       "591      9500             3\n",
       "592      9600             5\n",
       "593      9620             5\n",
       "594      9630             2\n",
       "595      9750             1\n",
       "596      9770             1\n",
       "597      9771             1\n",
       "598      9790             2\n",
       "599      9800            46\n",
       "600      9810            24\n",
       "601      9820            11\n",
       "602      9830             2\n",
       "603      9850             2\n",
       "604      9860             1\n",
       "605      9880             9\n",
       "606      9900            47\n",
       "607      9910             2\n",
       "608      9932             1\n",
       "609      9940            22\n",
       "610      9960             3\n",
       "611      9990             3\n",
       "612      9991             2\n",
       "613     17600             2\n",
       "\n",
       "[614 rows x 2 columns]"
      ]
     },
     "execution_count": 8,
     "metadata": {},
     "output_type": "execute_result"
    }
   ],
   "source": [
    "jobs.groupby(['Postcode']).size().reset_index(name='Locationwise')"
   ]
  },
  {
   "cell_type": "code",
   "execution_count": 18,
   "metadata": {
    "scrolled": true
   },
   "outputs": [
    {
     "data": {
      "text/html": [
       "<div>\n",
       "<style scoped>\n",
       "    .dataframe tbody tr th:only-of-type {\n",
       "        vertical-align: middle;\n",
       "    }\n",
       "\n",
       "    .dataframe tbody tr th {\n",
       "        vertical-align: top;\n",
       "    }\n",
       "\n",
       "    .dataframe thead th {\n",
       "        text-align: right;\n",
       "    }\n",
       "</style>\n",
       "<table border=\"1\" class=\"dataframe\">\n",
       "  <thead>\n",
       "    <tr style=\"text-align: right;\">\n",
       "      <th></th>\n",
       "      <th>Postcode</th>\n",
       "      <th>Locationwise</th>\n",
       "    </tr>\n",
       "  </thead>\n",
       "  <tbody>\n",
       "    <tr>\n",
       "      <th>226</th>\n",
       "      <td>3900</td>\n",
       "      <td>384</td>\n",
       "    </tr>\n",
       "    <tr>\n",
       "      <th>191</th>\n",
       "      <td>3500</td>\n",
       "      <td>265</td>\n",
       "    </tr>\n",
       "    <tr>\n",
       "      <th>205</th>\n",
       "      <td>3600</td>\n",
       "      <td>201</td>\n",
       "    </tr>\n",
       "    <tr>\n",
       "      <th>115</th>\n",
       "      <td>2370</td>\n",
       "      <td>147</td>\n",
       "    </tr>\n",
       "    <tr>\n",
       "      <th>232</th>\n",
       "      <td>3960</td>\n",
       "      <td>138</td>\n",
       "    </tr>\n",
       "  </tbody>\n",
       "</table>\n",
       "</div>"
      ],
      "text/plain": [
       "     Postcode  Locationwise\n",
       "226      3900           384\n",
       "191      3500           265\n",
       "205      3600           201\n",
       "115      2370           147\n",
       "232      3960           138"
      ]
     },
     "execution_count": 18,
     "metadata": {},
     "output_type": "execute_result"
    }
   ],
   "source": [
    "jobs.groupby(['Postcode']).size().reset_index(name='Locationwise').sort_values('Locationwise',\n",
    "                                                                             ascending=False).head()"
   ]
  },
  {
   "cell_type": "code",
   "execution_count": 19,
   "metadata": {},
   "outputs": [],
   "source": [
    "Postal_job = jobs.groupby(['Postcode']).size().reset_index(name='Locationwise').sort_values('Locationwise',\n",
    "                                                                             ascending=False).head(25)\n"
   ]
  },
  {
   "cell_type": "code",
   "execution_count": 20,
   "metadata": {},
   "outputs": [
    {
     "data": {
      "image/png": "[encoded data removed]",
      "text/plain": [
       "<Figure size 864x864 with 1 Axes>"
      ]
     },
     "metadata": {
      "needs_background": "light"
     },
     "output_type": "display_data"
    }
   ],
   "source": [
    "plt.figure(figsize=(12,12))\n",
    "ax = sns.barplot(x=\"Postcode\", y=\"Locationwise\", data=Postal_job)\n",
    "ax.set_xticklabels(ax.get_xticklabels(), rotation=90, ha=\"right\")\n",
    "ax.set_title('Top n postcodes')\n",
    "plt.tight_layout()\n",
    "plt.show()"
   ]
  },
  {
   "cell_type": "markdown",
   "metadata": {},
   "source": [
    "### Checking user profiles based on their location information"
   ]
  },
  {
   "cell_type": "code",
   "execution_count": 57,
   "metadata": {},
   "outputs": [
    {
     "data": {
      "text/html": [
       "<div>\n",
       "<style scoped>\n",
       "    .dataframe tbody tr th:only-of-type {\n",
       "        vertical-align: middle;\n",
       "    }\n",
       "\n",
       "    .dataframe tbody tr th {\n",
       "        vertical-align: top;\n",
       "    }\n",
       "\n",
       "    .dataframe thead th {\n",
       "        text-align: right;\n",
       "    }\n",
       "</style>\n",
       "<table border=\"1\" class=\"dataframe\">\n",
       "  <thead>\n",
       "    <tr style=\"text-align: right;\">\n",
       "      <th></th>\n",
       "      <th>Postcode</th>\n",
       "      <th>Locationwise</th>\n",
       "    </tr>\n",
       "  </thead>\n",
       "  <tbody>\n",
       "    <tr>\n",
       "      <th>395</th>\n",
       "      <td>4000</td>\n",
       "      <td>275</td>\n",
       "    </tr>\n",
       "    <tr>\n",
       "      <th>842</th>\n",
       "      <td>7100</td>\n",
       "      <td>198</td>\n",
       "    </tr>\n",
       "    <tr>\n",
       "      <th>397</th>\n",
       "      <td>4020</td>\n",
       "      <td>179</td>\n",
       "    </tr>\n",
       "    <tr>\n",
       "      <th>15</th>\n",
       "      <td>1070</td>\n",
       "      <td>165</td>\n",
       "    </tr>\n",
       "    <tr>\n",
       "      <th>343</th>\n",
       "      <td>3600</td>\n",
       "      <td>135</td>\n",
       "    </tr>\n",
       "  </tbody>\n",
       "</table>\n",
       "</div>"
      ],
      "text/plain": [
       "    Postcode  Locationwise\n",
       "395     4000           275\n",
       "842     7100           198\n",
       "397     4020           179\n",
       "15      1070           165\n",
       "343     3600           135"
      ]
     },
     "execution_count": 57,
     "metadata": {},
     "output_type": "execute_result"
    }
   ],
   "source": [
    "users.groupby(['Postcode']).size().reset_index(name='Locationwise').sort_values('Locationwise',\n",
    "                                                                                        ascending=False).head()\n"
   ]
  },
  {
   "cell_type": "code",
   "execution_count": 61,
   "metadata": {},
   "outputs": [
    {
     "data": {
      "image/png": "[encoded data removed]",
      "text/plain": [
       "<Figure size 864x864 with 1 Axes>"
      ]
     },
     "metadata": {
      "needs_background": "light"
     },
     "output_type": "display_data"
    }
   ],
   "source": [
    "userspostal = users.groupby(['Postcode']).size().reset_index(name='Locationwise').sort_values('Locationwise',\n",
    "                                                                                        ascending=False).head(25)\n",
    "plt.figure(figsize=(12,12))\n",
    "ax = sns.barplot(x=\"Postcode\", y=\"Locationwise\",data=userspostal)\n",
    "ax.set_xticklabels(ax.get_xticklabels(), rotation=90, ha=\"right\")\n",
    "ax.set_title('Applicants per postalcode')\n",
    "plt.tight_layout()\n",
    "plt.show()"
   ]
  },
  {
   "cell_type": "markdown",
   "metadata": {},
   "source": [
    "## Approach 1\n",
    "\n",
    "\n",
    "###  Look for similar jobs\n",
    "Simple approach to get similar jobs"
   ]
  },
  {
   "cell_type": "code",
   "execution_count": 9,
   "metadata": {},
   "outputs": [
    {
     "data": {
      "text/plain": [
       "Index(['VacatureId', 'OrgineleId', 'Naam', 'Ref', 'Datum', 'Plaats',\n",
       "       'Postcode', 'Type', 'Kantoor', 'Contactpersoon', 'Contactnummer',\n",
       "       'Contactemail', 'Functie', 'Takenprofiel', 'Attesten', 'Vaardigheden',\n",
       "       'Opleiding', 'Vakkennis', 'Ervaring', 'Talenkennis', 'Pckennis', 'Taal',\n",
       "       'Duur', 'SolicitatieTypeStatus', 'FunctiegroepId', 'Database', 'Lat',\n",
       "       'Lon', 'IsDeleted', 'IngaveDatum'],\n",
       "      dtype='object')"
      ]
     },
     "execution_count": 9,
     "metadata": {},
     "output_type": "execute_result"
    }
   ],
   "source": [
    "# check the columns of the document to see with what we can work.\n",
    "jobs.columns\n"
   ]
  },
  {
   "cell_type": "code",
   "execution_count": 10,
   "metadata": {},
   "outputs": [],
   "source": [
    "# Concatenate different items which are relevant.\n",
    "jobs['Naam'] = jobs['Naam'].fillna('')\n",
    "jobs['Functie'] = jobs['Functie'].fillna('')\n",
    "jobs['Takenprofiel'] = jobs['Takenprofiel'].fillna('')\n",
    "jobs['NFT'] = jobs['Naam'] + jobs['Functie'] + jobs['Takenprofiel']"
   ]
  },
  {
   "cell_type": "code",
   "execution_count": 11,
   "metadata": {},
   "outputs": [
    {
     "data": {
      "text/plain": [
       "<8356x133543 sparse matrix of type '<class 'numpy.float64'>'\n",
       "\twith 423368 stored elements in Compressed Sparse Row format>"
      ]
     },
     "execution_count": 11,
     "metadata": {},
     "output_type": "execute_result"
    }
   ],
   "source": [
    "# Remove irrelevant words\n",
    "from stop_words import get_stop_words\n",
    "stops_words_dutch = get_stop_words('dutch')\n",
    "stops_words_french = get_stop_words('french')\n",
    "stops_words_df = stops_words_dutch + stops_words_french\n",
    "# print(stops_words_df)\n",
    "tf = TfidfVectorizer(analyzer='word',ngram_range=(1, 2),min_df=0, stop_words=stops_words_df)\n",
    "\n",
    "# create a matrix with the word as features (columns) and the documents as rows. The values are the Tf-idf-weights\n",
    "tfidf_matrix = tf.fit_transform(jobs['NFT'])\n",
    "# print (tf.get_feature_names())\n",
    "tfidf_matrix"
   ]
  },
  {
   "cell_type": "code",
   "execution_count": 13,
   "metadata": {},
   "outputs": [],
   "source": [
    "# Calculating the cosine simularity of the corpus\n",
    "# A nice explanation of how this works can be found here : \n",
    "# http://blog.christianperone.com/2013/09/machine-learning-cosine-similarity-for-vector-space-models-part-iii/\n",
    "cosine_sim = cosine_similarity(tfidf_matrix, tfidf_matrix)\n"
   ]
  },
  {
   "cell_type": "code",
   "execution_count": 14,
   "metadata": {},
   "outputs": [
    {
     "data": {
      "text/plain": [
       "RangeIndex(start=0, stop=8356, step=1)"
      ]
     },
     "execution_count": 14,
     "metadata": {},
     "output_type": "execute_result"
    }
   ],
   "source": [
    "cosine_sim[0]\n",
    "jobs.index"
   ]
  },
  {
   "cell_type": "code",
   "execution_count": 15,
   "metadata": {},
   "outputs": [],
   "source": [
    "# Creating a pandas serie which will hold a list with the names of the documents and the index. This index will be used to\n",
    "# retrieve the index, based on the title of the job. This in its turn is then used to lookup documents in the cosine matrix\n",
    "jobs = jobs.reset_index()\n",
    "titles = jobs['Naam']\n",
    "indices = pd.Series(jobs.index, index=jobs['Naam'])\n",
    "# print(indices)"
   ]
  },
  {
   "cell_type": "code",
   "execution_count": 16,
   "metadata": {},
   "outputs": [],
   "source": [
    "def get_recommendations(title):\n",
    "    if title in indices:\n",
    "        idx = indices[title]\n",
    "        # Create an iteratable list from the matrix and getting the row that corresponds with the document. This row \n",
    "        # contains all comparisons for this document with the rest of the documents\n",
    "        sim_scores = list(enumerate(cosine_sim[idx]))\n",
    "        sim_scores = sorted(sim_scores, key=lambda x: x[1], reverse=True)\n",
    "        job_indices = [i[0] for i in sim_scores]\n",
    "        return titles.iloc[job_indices].head(10)\n",
    "    else:\n",
    "        return 'Not a known vacancy'"
   ]
  },
  {
   "cell_type": "code",
   "execution_count": 17,
   "metadata": {},
   "outputs": [
    {
     "data": {
      "text/plain": [
       "8349                          BATIBOUWVERKOPERS\n",
       "2957                           ERVAREN VLOERDER\n",
       "5698                           ERVAREN VLOERDER\n",
       "6244                           ERVAREN VLOERDER\n",
       "8104          INFORMANT AUTOSALON 2019 - TIENEN\n",
       "8109            INFORMANT AUTOSALON 2019 - GENK\n",
       "8110            INFORMANT AUTOSALON 2019 - BREE\n",
       "8111    INFORMANT AUTOSALON 2019 - SINT-TRUIDEN\n",
       "8103         INFORMANT AUTOSALON 2019 - WEEKEND\n",
       "8106           HOSTESS AUTOSALON 2019 - WEEKEND\n",
       "Name: Naam, dtype: object"
      ]
     },
     "execution_count": 17,
     "metadata": {},
     "output_type": "execute_result"
    }
   ],
   "source": [
    "get_recommendations('BATIBOUWVERKOPERS')"
   ]
  },
  {
   "cell_type": "code",
   "execution_count": 18,
   "metadata": {},
   "outputs": [
    {
     "data": {
      "text/plain": [
       "8342                VENDEUR CONSEILLER\n",
       "8222                VENDEUR AUTOMOBILE\n",
       "1875                     VENDEUR (H/F)\n",
       "2069      CONSEILLER VENDEUR OUTILLAGE\n",
       "6955                      VENDEUR SHOP\n",
       "424                 VENDEUR AUTOMOBILE\n",
       "3178          VENDEUR AUTOMOBILE (H/F)\n",
       "3833                       VENDEUR H/F\n",
       "5359    CONSEILLER / VENDEUR ANIMALIER\n",
       "6894    CONSEILLER / VENDEUR ANIMALIER\n",
       "Name: Naam, dtype: object"
      ]
     },
     "execution_count": 18,
     "metadata": {},
     "output_type": "execute_result"
    }
   ],
   "source": [
    "get_recommendations('VENDEUR CONSEILLER')"
   ]
  },
  {
   "cell_type": "code",
   "execution_count": 19,
   "metadata": {
    "scrolled": true
   },
   "outputs": [
    {
     "data": {
      "text/plain": [
       "8109            INFORMANT AUTOSALON 2019 - GENK\n",
       "8110            INFORMANT AUTOSALON 2019 - BREE\n",
       "8104          INFORMANT AUTOSALON 2019 - TIENEN\n",
       "8111    INFORMANT AUTOSALON 2019 - SINT-TRUIDEN\n",
       "8107    INFORMANT AUTOSALON 2019 - HERK-DE-STAD\n",
       "8103         INFORMANT AUTOSALON 2019 - WEEKEND\n",
       "8105         INFORMANT AUTOSALON 2019 - WEEKEND\n",
       "8108         INFORMANT AUTOSALON 2019 - WEEKEND\n",
       "8106           HOSTESS AUTOSALON 2019 - WEEKEND\n",
       "8115                             INFORMANT (M/V\n",
       "Name: Naam, dtype: object"
      ]
     },
     "execution_count": 19,
     "metadata": {},
     "output_type": "execute_result"
    }
   ],
   "source": [
    "get_recommendations('INFORMANT AUTOSALON 2019 - GENK')"
   ]
  },
  {
   "cell_type": "markdown",
   "metadata": {},
   "source": [
    "## Approach 2\n",
    "\n",
    "### Look for similar users\n",
    "Find out similar users, based on content of the profile. Then check for which jobs they applied and present these jobs to the respective user."
   ]
  },
  {
   "cell_type": "code",
   "execution_count": 26,
   "metadata": {},
   "outputs": [],
   "source": [
    "# Only motivation contains some relevant information in the database.\n",
    "users['Motivatie'] = users['Motivatie'].fillna('')\n",
    "users['cvastext'] = users['cvastext'].fillna('')\n"
   ]
  },
  {
   "cell_type": "code",
   "execution_count": 27,
   "metadata": {},
   "outputs": [],
   "source": [
    "# See above for more explanation.\n",
    "tf = TfidfVectorizer(analyzer='word',ngram_range=(1, 2),min_df=0, stop_words=stops_words_df)\n",
    "tfidf_matrix = tf.fit_transform(users['cvastext'])"
   ]
  },
  {
   "cell_type": "code",
   "execution_count": 28,
   "metadata": {},
   "outputs": [
    {
     "data": {
      "text/plain": [
       "(11361, 962113)"
      ]
     },
     "execution_count": 28,
     "metadata": {},
     "output_type": "execute_result"
    }
   ],
   "source": [
    "tfidf_matrix.shape"
   ]
  },
  {
   "cell_type": "code",
   "execution_count": 29,
   "metadata": {},
   "outputs": [],
   "source": [
    "cosine_sim = cosine_similarity(tfidf_matrix, tfidf_matrix)"
   ]
  },
  {
   "cell_type": "code",
   "execution_count": 30,
   "metadata": {},
   "outputs": [
    {
     "data": {
      "text/plain": [
       "array([0., 0., 0., ..., 0., 0., 0.])"
      ]
     },
     "execution_count": 30,
     "metadata": {},
     "output_type": "execute_result"
    }
   ],
   "source": [
    "cosine_sim[0]"
   ]
  },
  {
   "cell_type": "code",
   "execution_count": 31,
   "metadata": {},
   "outputs": [],
   "source": [
    "users = users.reset_index()\n",
    "userid = users['Id']\n",
    "indices = pd.Series(users.index, index=users['Id'])"
   ]
  },
  {
   "cell_type": "code",
   "execution_count": 32,
   "metadata": {},
   "outputs": [],
   "source": [
    "def get_recommendations_userwise(userid):\n",
    "    idx = indices[userid]\n",
    "    #print (idx)\n",
    "    sim_scores = list(enumerate(cosine_sim[idx]))\n",
    "    #print (sim_scores)\n",
    "    sim_scores = sorted(sim_scores, key=lambda x: x[1], reverse=True)\n",
    "    user_indices = [i[0] for i in sim_scores]\n",
    "    #print (user_indices)\n",
    "    return user_indices[0:11]"
   ]
  },
  {
   "cell_type": "code",
   "execution_count": 46,
   "metadata": {},
   "outputs": [
    {
     "name": "stdout",
     "output_type": "stream",
     "text": [
      "-----Top 10 Similar users with userId: 5------\n"
     ]
    },
    {
     "data": {
      "text/plain": [
       "[0, 1, 2, 3, 4, 5, 6, 7, 8, 9, 10]"
      ]
     },
     "execution_count": 46,
     "metadata": {},
     "output_type": "execute_result"
    }
   ],
   "source": [
    "print (\"-----Top 10 Similar users with userId: 5------\")\n",
    "get_recommendations_userwise(7)\n"
   ]
  },
  {
   "cell_type": "code",
   "execution_count": 48,
   "metadata": {},
   "outputs": [],
   "source": [
    "def get_job_id(usrid_list):\n",
    "    jobs_userwise = apps['ProfielId'].isin(usrid_list) #\n",
    "    df1 = pd.DataFrame(data = apps[jobs_userwise], columns=['VacatureId'])\n",
    "    joblist = df1['VacatureId'].tolist()\n",
    "    Job_list = jobs['VacatureId'].isin(joblist) #[1083186, 516837, 507614, 754917, 686406, 1058896, 335132])\n",
    "    df_temp = pd.DataFrame(data = jobs[Job_list], columns=['Naam','Takenprofiel','Postcode'])\n",
    "    return df_temp"
   ]
  },
  {
   "cell_type": "code",
   "execution_count": 69,
   "metadata": {},
   "outputs": [
    {
     "data": {
      "text/html": [
       "<div>\n",
       "<style scoped>\n",
       "    .dataframe tbody tr th:only-of-type {\n",
       "        vertical-align: middle;\n",
       "    }\n",
       "\n",
       "    .dataframe tbody tr th {\n",
       "        vertical-align: top;\n",
       "    }\n",
       "\n",
       "    .dataframe thead th {\n",
       "        text-align: right;\n",
       "    }\n",
       "</style>\n",
       "<table border=\"1\" class=\"dataframe\">\n",
       "  <thead>\n",
       "    <tr style=\"text-align: right;\">\n",
       "      <th></th>\n",
       "      <th>Naam</th>\n",
       "      <th>Takenprofiel</th>\n",
       "      <th>Postcode</th>\n",
       "    </tr>\n",
       "  </thead>\n",
       "  <tbody>\n",
       "    <tr>\n",
       "      <th>3195</th>\n",
       "      <td>ADMINSTRATIEF BEDIENDE - PARTTIME</td>\n",
       "      <td>Voor onze klant zijn we op zoek naar een partt...</td>\n",
       "      <td>8800</td>\n",
       "    </tr>\n",
       "    <tr>\n",
       "      <th>8114</th>\n",
       "      <td>CHAUFFEUR - LIVREUR</td>\n",
       "      <td>Qjobs est à la recherche d'un chauffeur livreu...</td>\n",
       "      <td>4432</td>\n",
       "    </tr>\n",
       "  </tbody>\n",
       "</table>\n",
       "</div>"
      ],
      "text/plain": [
       "                                   Naam  \\\n",
       "3195  ADMINSTRATIEF BEDIENDE - PARTTIME   \n",
       "8114               CHAUFFEUR - LIVREUR    \n",
       "\n",
       "                                           Takenprofiel  Postcode  \n",
       "3195  Voor onze klant zijn we op zoek naar een partt...      8800  \n",
       "8114  Qjobs est à la recherche d'un chauffeur livreu...      4432  "
      ]
     },
     "execution_count": 69,
     "metadata": {},
     "output_type": "execute_result"
    }
   ],
   "source": [
    "# Which job did he/she apply for?\n",
    "userid = 18\n",
    "useridlist = [userid]\n",
    "get_job_id(useridlist)"
   ]
  },
  {
   "cell_type": "code",
   "execution_count": 68,
   "metadata": {},
   "outputs": [
    {
     "data": {
      "text/html": [
       "<div>\n",
       "<style scoped>\n",
       "    .dataframe tbody tr th:only-of-type {\n",
       "        vertical-align: middle;\n",
       "    }\n",
       "\n",
       "    .dataframe tbody tr th {\n",
       "        vertical-align: top;\n",
       "    }\n",
       "\n",
       "    .dataframe thead th {\n",
       "        text-align: right;\n",
       "    }\n",
       "</style>\n",
       "<table border=\"1\" class=\"dataframe\">\n",
       "  <thead>\n",
       "    <tr style=\"text-align: right;\">\n",
       "      <th></th>\n",
       "      <th>Naam</th>\n",
       "      <th>Takenprofiel</th>\n",
       "      <th>Postcode</th>\n",
       "    </tr>\n",
       "  </thead>\n",
       "  <tbody>\n",
       "    <tr>\n",
       "      <th>3134</th>\n",
       "      <td>HOOFDAANKOPER EXTERIEUR</td>\n",
       "      <td>Taken :\\n\\n-Onderhandelen met leveranciers, co...</td>\n",
       "      <td>9000</td>\n",
       "    </tr>\n",
       "    <tr>\n",
       "      <th>3135</th>\n",
       "      <td>INPAKKER</td>\n",
       "      <td>- je werkt mee aan de inpak waar nodig\\n- je c...</td>\n",
       "      <td>2520</td>\n",
       "    </tr>\n",
       "    <tr>\n",
       "      <th>4380</th>\n",
       "      <td>MAGASINIER CARISTE</td>\n",
       "      <td>-Vous êtes en possession de votre brevet de ca...</td>\n",
       "      <td>6061</td>\n",
       "    </tr>\n",
       "    <tr>\n",
       "      <th>4648</th>\n",
       "      <td>JOBSTUDENT(E) BEDIENDE</td>\n",
       "      <td>We zijn op zoek naar een gemotiveerde bediende...</td>\n",
       "      <td>3670</td>\n",
       "    </tr>\n",
       "    <tr>\n",
       "      <th>4757</th>\n",
       "      <td>JOBSTUDENT GROOTHANDEL GROENTEN EN FRUIT M/V (...</td>\n",
       "      <td>Voor onze klant zoeken we studenten die in de ...</td>\n",
       "      <td>3500</td>\n",
       "    </tr>\n",
       "    <tr>\n",
       "      <th>5632</th>\n",
       "      <td>VENDEUR SANDWICHERIE</td>\n",
       "      <td>Faire des sandwiches, \\nPrendre des commandes,...</td>\n",
       "      <td>4040</td>\n",
       "    </tr>\n",
       "    <tr>\n",
       "      <th>5869</th>\n",
       "      <td>VENDEUR-CONSEILLER OUTILLAGE (H/F)</td>\n",
       "      <td>Vous serez en charge d'accueillir, conseillez ...</td>\n",
       "      <td>7110</td>\n",
       "    </tr>\n",
       "  </tbody>\n",
       "</table>\n",
       "</div>"
      ],
      "text/plain": [
       "                                                   Naam  \\\n",
       "3134                            HOOFDAANKOPER EXTERIEUR   \n",
       "3135                                           INPAKKER   \n",
       "4380                                 MAGASINIER CARISTE   \n",
       "4648                             JOBSTUDENT(E) BEDIENDE   \n",
       "4757  JOBSTUDENT GROOTHANDEL GROENTEN EN FRUIT M/V (...   \n",
       "5632                               VENDEUR SANDWICHERIE   \n",
       "5869                 VENDEUR-CONSEILLER OUTILLAGE (H/F)   \n",
       "\n",
       "                                           Takenprofiel  Postcode  \n",
       "3134  Taken :\\n\\n-Onderhandelen met leveranciers, co...      9000  \n",
       "3135  - je werkt mee aan de inpak waar nodig\\n- je c...      2520  \n",
       "4380  -Vous êtes en possession de votre brevet de ca...      6061  \n",
       "4648  We zijn op zoek naar een gemotiveerde bediende...      3670  \n",
       "4757  Voor onze klant zoeken we studenten die in de ...      3500  \n",
       "5632  Faire des sandwiches, \\nPrendre des commandes,...      4040  \n",
       "5869  Vous serez en charge d'accueillir, conseillez ...      7110  "
      ]
     },
     "execution_count": 68,
     "metadata": {},
     "output_type": "execute_result"
    }
   ],
   "source": [
    "# Which job is recommended?\n",
    "get_job_id(get_recommendations_userwise(userid))"
   ]
  }
 ],
 "metadata": {
  "kernelspec": {
   "display_name": "Python 3",
   "language": "python",
   "name": "python3"
  },
  "language_info": {
   "codemirror_mode": {
    "name": "ipython",
    "version": 3
   },
   "file_extension": ".py",
   "mimetype": "text/x-python",
   "name": "python",
   "nbconvert_exporter": "python",
   "pygments_lexer": "ipython3",
   "version": "3.7.2"
  }
 },
 "nbformat": 4,
 "nbformat_minor": 2
}
